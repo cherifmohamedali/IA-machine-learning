{
 "cells": [
  {
   "cell_type": "code",
   "execution_count": 1,
   "id": "12cbb6a0-7734-4cd9-baf1-3236ae024fda",
   "metadata": {},
   "outputs": [],
   "source": [
    "#question1"
   ]
  },
  {
   "cell_type": "code",
   "execution_count": 6,
   "id": "b3d8dfa1-e8f1-4c11-8506-a992a59aeaf1",
   "metadata": {},
   "outputs": [
    {
     "name": "stdout",
     "output_type": "stream",
     "text": [
      "[2002, 2009, 2016, 2023, 2037, 2044, 2051, 2058, 2072, 2079, 2086, 2093, 2107, 2114, 2121, 2128, 2142, 2149, 2156, 2163, 2177, 2184, 2191, 2198, 2212, 2219, 2226, 2233, 2247, 2254, 2261, 2268, 2282, 2289, 2296, 2303, 2317, 2324, 2331, 2338, 2352, 2359, 2366, 2373, 2387, 2394, 2401, 2408, 2422, 2429, 2436, 2443, 2457, 2464, 2471, 2478, 2492, 2499, 2506, 2513, 2527, 2534, 2541, 2548, 2562, 2569, 2576, 2583, 2597, 2604, 2611, 2618, 2632, 2639, 2646, 2653, 2667, 2674, 2681, 2688, 2702, 2709, 2716, 2723, 2737, 2744, 2751, 2758, 2772, 2779, 2786, 2793, 2807, 2814, 2821, 2828, 2842, 2849, 2856, 2863, 2877, 2884, 2891, 2898, 2912, 2919, 2926, 2933, 2947, 2954, 2961, 2968, 2982, 2989, 2996, 3003, 3017, 3024, 3031, 3038, 3052, 3059, 3066, 3073, 3087, 3094, 3101, 3108, 3122, 3129, 3136, 3143, 3157, 3164, 3171, 3178, 3192, 3199]\n"
     ]
    }
   ],
   "source": [
    "L=[]\n",
    "\n",
    "for i in range(2000,3201,1):\n",
    "    if i%7 == 0 and i%5 != 0:\n",
    "        L.append(i)\n",
    "print(L)\n",
    "        "
   ]
  },
  {
   "cell_type": "code",
   "execution_count": 10,
   "id": "479197c9-4801-40e9-bc7f-42b8ce165c39",
   "metadata": {},
   "outputs": [],
   "source": [
    "#question2"
   ]
  },
  {
   "cell_type": "code",
   "execution_count": 13,
   "id": "a86e8489-b02a-4fef-88fe-1680926cb884",
   "metadata": {},
   "outputs": [
    {
     "name": "stdin",
     "output_type": "stream",
     "text": [
      "calcul factoriel de 5\n"
     ]
    },
    {
     "name": "stdout",
     "output_type": "stream",
     "text": [
      "120\n"
     ]
    }
   ],
   "source": [
    "nbr=int(input(\"calcul factoriel de\"))\n",
    "x=1 \n",
    "for i in range (1,nbr+1): \n",
    "    x=x*i \n",
    "print(x)"
   ]
  },
  {
   "cell_type": "code",
   "execution_count": 14,
   "id": "c7ef707a-e044-4ef1-8c30-19fbf91b153c",
   "metadata": {},
   "outputs": [],
   "source": [
    "#question3"
   ]
  },
  {
   "cell_type": "code",
   "execution_count": 18,
   "id": "c7c16539-85fe-46f5-bc89-b4ec2cf9314b",
   "metadata": {},
   "outputs": [
    {
     "name": "stdin",
     "output_type": "stream",
     "text": [
      " 8\n"
     ]
    },
    {
     "data": {
      "text/plain": [
       "{1: 1, 2: 4, 3: 9, 4: 16, 5: 25, 6: 36, 7: 49, 8: 64}"
      ]
     },
     "execution_count": 18,
     "metadata": {},
     "output_type": "execute_result"
    }
   ],
   "source": [
    "dict={}\n",
    "nbr=int(input(\"\"))\n",
    "for i in range (1,nbr+1,1):\n",
    "    dict[i]=i*i\n",
    "dict"
   ]
  },
  {
   "cell_type": "code",
   "execution_count": 19,
   "id": "9fab3966-53b1-459f-a569-ecdc4a720064",
   "metadata": {},
   "outputs": [],
   "source": [
    "#question4"
   ]
  },
  {
   "cell_type": "code",
   "execution_count": 34,
   "id": "42715dbb-0c79-483c-81a7-009b51c49a91",
   "metadata": {},
   "outputs": [
    {
     "name": "stdin",
     "output_type": "stream",
     "text": [
      " kitten\n",
      " 1\n"
     ]
    },
    {
     "name": "stdout",
     "output_type": "stream",
     "text": [
      " ktten\n"
     ]
    }
   ],
   "source": [
    "def missing_char(char, index):\n",
    "    result=' '\n",
    "    x=len(char)\n",
    "    \n",
    "    for i in range (x):\n",
    "        \n",
    "        if i != index:\n",
    "            \n",
    "            result=result+char[i]\n",
    "    return result\n",
    "\n",
    "char=input()\n",
    "index=int(input())\n",
    "M=missing_char(char,index)\n",
    "print(M)"
   ]
  },
  {
   "cell_type": "code",
   "execution_count": 35,
   "id": "d36c777d-a477-4121-96bf-638ec6e0f07f",
   "metadata": {},
   "outputs": [],
   "source": [
    "#question5"
   ]
  },
  {
   "cell_type": "code",
   "execution_count": 39,
   "id": "e06c072b-3d36-41ce-962a-a34277e1527f",
   "metadata": {},
   "outputs": [
    {
     "data": {
      "text/plain": [
       "[[0, 1], [2, 3], [4, 5]]"
      ]
     },
     "execution_count": 39,
     "metadata": {},
     "output_type": "execute_result"
    }
   ],
   "source": [
    "import numpy as np\n",
    "a = np.array([[0, 1],[2, 3],[4 ,5]])\n",
    "L=a.tolist()\n",
    "L"
   ]
  },
  {
   "cell_type": "code",
   "execution_count": 40,
   "id": "a20e0fe8-5f15-4892-a327-53b21553bf28",
   "metadata": {},
   "outputs": [],
   "source": [
    "#question6"
   ]
  },
  {
   "cell_type": "code",
   "execution_count": 41,
   "id": "5fd58e82-4797-4249-92e6-bccffc8afb7b",
   "metadata": {},
   "outputs": [
    {
     "data": {
      "text/plain": [
       "array([[ 1., -1.],\n",
       "       [-1.,  1.]])"
      ]
     },
     "execution_count": 41,
     "metadata": {},
     "output_type": "execute_result"
    }
   ],
   "source": [
    "array1=np.array([0,1,2])\n",
    "array2=np.array([2,1,0])\n",
    "y=np.cov(array1,array2)\n",
    "y"
   ]
  },
  {
   "cell_type": "code",
   "execution_count": 42,
   "id": "fc919ed1-5db3-4300-9a0d-1d8fe9522011",
   "metadata": {},
   "outputs": [],
   "source": [
    "#question7"
   ]
  },
  {
   "cell_type": "code",
   "execution_count": null,
   "id": "e69941ff-c3c4-4bd3-a56c-b2c0d25ff00a",
   "metadata": {},
   "outputs": [],
   "source": [
    "import math\n",
    "def calcul():\n",
    "    c=50\n",
    "    h=30\n",
    "    value = []\n",
    "    items=[x for x in input().split(',')]\n",
    "    for d in items:\n",
    "        value.append(str(int(round(math.sqrt(2*c*float(d)/h)))))\n",
    "    return(','.join(value))\n",
    "calcul()"
   ]
  },
  {
   "cell_type": "code",
   "execution_count": null,
   "id": "5015ea3c-227a-49c0-a01e-dabf49dd539d",
   "metadata": {},
   "outputs": [],
   "source": []
  }
 ],
 "metadata": {
  "kernelspec": {
   "display_name": "Python 3",
   "language": "python",
   "name": "python3"
  },
  "language_info": {
   "codemirror_mode": {
    "name": "ipython",
    "version": 3
   },
   "file_extension": ".py",
   "mimetype": "text/x-python",
   "name": "python",
   "nbconvert_exporter": "python",
   "pygments_lexer": "ipython3",
   "version": "3.8.8"
  }
 },
 "nbformat": 4,
 "nbformat_minor": 5
}
